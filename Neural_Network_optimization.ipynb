{
  "nbformat": 4,
  "nbformat_minor": 0,
  "metadata": {
    "colab": {
      "name": "Neural Network optimization.ipynb",
      "provenance": [],
      "collapsed_sections": [],
      "include_colab_link": true
    },
    "kernelspec": {
      "display_name": "Python 3",
      "name": "python3"
    },
    "language_info": {
      "name": "python"
    }
  },
  "cells": [
    {
      "cell_type": "markdown",
      "metadata": {
        "id": "view-in-github",
        "colab_type": "text"
      },
      "source": [
        "<a href=\"https://colab.research.google.com/github/ParnianH98/CNN-Convolutional-Neural-Network-/blob/main/Neural_Network_optimization.ipynb\" target=\"_parent\"><img src=\"https://colab.research.google.com/assets/colab-badge.svg\" alt=\"Open In Colab\"/></a>"
      ]
    },
    {
      "cell_type": "code",
      "metadata": {
        "colab": {
          "base_uri": "https://localhost:8080/"
        },
        "id": "yz4sXbxbYYQu",
        "outputId": "1b1a65ef-0c60-4a1a-97a8-82d07af6523d"
      },
      "source": [
        "import pandas as pd\n",
        "import numpy as np\n",
        "import matplotlib.pyplot as plt\n",
        "import matplotlib.image as mpimg\n",
        "import seaborn as sns\n",
        "%matplotlib inline\n",
        "\n",
        "np.random.seed(2)\n",
        "\n",
        "from sklearn.model_selection import train_test_split\n",
        "from sklearn.metrics import confusion_matrix\n",
        "import itertools\n",
        "\n",
        "from keras.utils.np_utils import to_categorical # convert to one-hot-encoding\n",
        "from keras.models import Sequential\n",
        "from keras.layers import Dense, Dropout, Flatten, Conv2D, MaxPool2D\n",
        "from keras.optimizers import RMSprop, Adam\n",
        "from keras.preprocessing.image import ImageDataGenerator\n",
        "from keras.callbacks import ReduceLROnPlateau\n",
        "\n",
        "from sklearn.utils import resample\n",
        "from google.colab import files\n",
        "from google.colab import drive\n",
        "drive.mount('/gdrive')\n",
        "%cd /gdrive"
      ],
      "execution_count": null,
      "outputs": [
        {
          "output_type": "stream",
          "text": [
            "Mounted at /gdrive\n",
            "/gdrive\n"
          ],
          "name": "stdout"
        }
      ]
    },
    {
      "cell_type": "markdown",
      "metadata": {
        "id": "pJTKnaa05RkE"
      },
      "source": [
        "load data: train and test"
      ]
    },
    {
      "cell_type": "code",
      "metadata": {
        "id": "tgf1qlf84huF",
        "colab": {
          "base_uri": "https://localhost:8080/",
          "height": 255
        },
        "outputId": "c8518c88-478a-4cab-a773-021014f7f83e"
      },
      "source": [
        "data = pd.read_csv(r'/gdrive/My Drive/AI HW/Neural Network optimization/train.csv')\n",
        "data.head(5)"
      ],
      "execution_count": null,
      "outputs": [
        {
          "output_type": "execute_result",
          "data": {
            "text/html": [
              "<div>\n",
              "<style scoped>\n",
              "    .dataframe tbody tr th:only-of-type {\n",
              "        vertical-align: middle;\n",
              "    }\n",
              "\n",
              "    .dataframe tbody tr th {\n",
              "        vertical-align: top;\n",
              "    }\n",
              "\n",
              "    .dataframe thead th {\n",
              "        text-align: right;\n",
              "    }\n",
              "</style>\n",
              "<table border=\"1\" class=\"dataframe\">\n",
              "  <thead>\n",
              "    <tr style=\"text-align: right;\">\n",
              "      <th></th>\n",
              "      <th>label</th>\n",
              "      <th>pixel0</th>\n",
              "      <th>pixel1</th>\n",
              "      <th>pixel2</th>\n",
              "      <th>pixel3</th>\n",
              "      <th>pixel4</th>\n",
              "      <th>pixel5</th>\n",
              "      <th>pixel6</th>\n",
              "      <th>pixel7</th>\n",
              "      <th>pixel8</th>\n",
              "      <th>pixel9</th>\n",
              "      <th>pixel10</th>\n",
              "      <th>pixel11</th>\n",
              "      <th>pixel12</th>\n",
              "      <th>pixel13</th>\n",
              "      <th>pixel14</th>\n",
              "      <th>pixel15</th>\n",
              "      <th>pixel16</th>\n",
              "      <th>pixel17</th>\n",
              "      <th>pixel18</th>\n",
              "      <th>pixel19</th>\n",
              "      <th>pixel20</th>\n",
              "      <th>pixel21</th>\n",
              "      <th>pixel22</th>\n",
              "      <th>pixel23</th>\n",
              "      <th>pixel24</th>\n",
              "      <th>pixel25</th>\n",
              "      <th>pixel26</th>\n",
              "      <th>pixel27</th>\n",
              "      <th>pixel28</th>\n",
              "      <th>pixel29</th>\n",
              "      <th>pixel30</th>\n",
              "      <th>pixel31</th>\n",
              "      <th>pixel32</th>\n",
              "      <th>pixel33</th>\n",
              "      <th>pixel34</th>\n",
              "      <th>pixel35</th>\n",
              "      <th>pixel36</th>\n",
              "      <th>pixel37</th>\n",
              "      <th>pixel38</th>\n",
              "      <th>...</th>\n",
              "      <th>pixel744</th>\n",
              "      <th>pixel745</th>\n",
              "      <th>pixel746</th>\n",
              "      <th>pixel747</th>\n",
              "      <th>pixel748</th>\n",
              "      <th>pixel749</th>\n",
              "      <th>pixel750</th>\n",
              "      <th>pixel751</th>\n",
              "      <th>pixel752</th>\n",
              "      <th>pixel753</th>\n",
              "      <th>pixel754</th>\n",
              "      <th>pixel755</th>\n",
              "      <th>pixel756</th>\n",
              "      <th>pixel757</th>\n",
              "      <th>pixel758</th>\n",
              "      <th>pixel759</th>\n",
              "      <th>pixel760</th>\n",
              "      <th>pixel761</th>\n",
              "      <th>pixel762</th>\n",
              "      <th>pixel763</th>\n",
              "      <th>pixel764</th>\n",
              "      <th>pixel765</th>\n",
              "      <th>pixel766</th>\n",
              "      <th>pixel767</th>\n",
              "      <th>pixel768</th>\n",
              "      <th>pixel769</th>\n",
              "      <th>pixel770</th>\n",
              "      <th>pixel771</th>\n",
              "      <th>pixel772</th>\n",
              "      <th>pixel773</th>\n",
              "      <th>pixel774</th>\n",
              "      <th>pixel775</th>\n",
              "      <th>pixel776</th>\n",
              "      <th>pixel777</th>\n",
              "      <th>pixel778</th>\n",
              "      <th>pixel779</th>\n",
              "      <th>pixel780</th>\n",
              "      <th>pixel781</th>\n",
              "      <th>pixel782</th>\n",
              "      <th>pixel783</th>\n",
              "    </tr>\n",
              "  </thead>\n",
              "  <tbody>\n",
              "    <tr>\n",
              "      <th>0</th>\n",
              "      <td>1</td>\n",
              "      <td>0</td>\n",
              "      <td>0</td>\n",
              "      <td>0</td>\n",
              "      <td>0</td>\n",
              "      <td>0</td>\n",
              "      <td>0</td>\n",
              "      <td>0</td>\n",
              "      <td>0</td>\n",
              "      <td>0</td>\n",
              "      <td>0</td>\n",
              "      <td>0</td>\n",
              "      <td>0</td>\n",
              "      <td>0</td>\n",
              "      <td>0</td>\n",
              "      <td>0</td>\n",
              "      <td>0</td>\n",
              "      <td>0</td>\n",
              "      <td>0</td>\n",
              "      <td>0</td>\n",
              "      <td>0</td>\n",
              "      <td>0</td>\n",
              "      <td>0</td>\n",
              "      <td>0</td>\n",
              "      <td>0</td>\n",
              "      <td>0</td>\n",
              "      <td>0</td>\n",
              "      <td>0</td>\n",
              "      <td>0</td>\n",
              "      <td>0</td>\n",
              "      <td>0</td>\n",
              "      <td>0</td>\n",
              "      <td>0</td>\n",
              "      <td>0</td>\n",
              "      <td>0</td>\n",
              "      <td>0</td>\n",
              "      <td>0</td>\n",
              "      <td>0</td>\n",
              "      <td>0</td>\n",
              "      <td>0</td>\n",
              "      <td>...</td>\n",
              "      <td>0</td>\n",
              "      <td>0</td>\n",
              "      <td>0</td>\n",
              "      <td>0</td>\n",
              "      <td>0</td>\n",
              "      <td>0</td>\n",
              "      <td>0</td>\n",
              "      <td>0</td>\n",
              "      <td>0</td>\n",
              "      <td>0</td>\n",
              "      <td>0</td>\n",
              "      <td>0</td>\n",
              "      <td>0</td>\n",
              "      <td>0</td>\n",
              "      <td>0</td>\n",
              "      <td>0</td>\n",
              "      <td>0</td>\n",
              "      <td>0</td>\n",
              "      <td>0</td>\n",
              "      <td>0</td>\n",
              "      <td>0</td>\n",
              "      <td>0</td>\n",
              "      <td>0</td>\n",
              "      <td>0</td>\n",
              "      <td>0</td>\n",
              "      <td>0</td>\n",
              "      <td>0</td>\n",
              "      <td>0</td>\n",
              "      <td>0</td>\n",
              "      <td>0</td>\n",
              "      <td>0</td>\n",
              "      <td>0</td>\n",
              "      <td>0</td>\n",
              "      <td>0</td>\n",
              "      <td>0</td>\n",
              "      <td>0</td>\n",
              "      <td>0</td>\n",
              "      <td>0</td>\n",
              "      <td>0</td>\n",
              "      <td>0</td>\n",
              "    </tr>\n",
              "    <tr>\n",
              "      <th>1</th>\n",
              "      <td>0</td>\n",
              "      <td>0</td>\n",
              "      <td>0</td>\n",
              "      <td>0</td>\n",
              "      <td>0</td>\n",
              "      <td>0</td>\n",
              "      <td>0</td>\n",
              "      <td>0</td>\n",
              "      <td>0</td>\n",
              "      <td>0</td>\n",
              "      <td>0</td>\n",
              "      <td>0</td>\n",
              "      <td>0</td>\n",
              "      <td>0</td>\n",
              "      <td>0</td>\n",
              "      <td>0</td>\n",
              "      <td>0</td>\n",
              "      <td>0</td>\n",
              "      <td>0</td>\n",
              "      <td>0</td>\n",
              "      <td>0</td>\n",
              "      <td>0</td>\n",
              "      <td>0</td>\n",
              "      <td>0</td>\n",
              "      <td>0</td>\n",
              "      <td>0</td>\n",
              "      <td>0</td>\n",
              "      <td>0</td>\n",
              "      <td>0</td>\n",
              "      <td>0</td>\n",
              "      <td>0</td>\n",
              "      <td>0</td>\n",
              "      <td>0</td>\n",
              "      <td>0</td>\n",
              "      <td>0</td>\n",
              "      <td>0</td>\n",
              "      <td>0</td>\n",
              "      <td>0</td>\n",
              "      <td>0</td>\n",
              "      <td>0</td>\n",
              "      <td>...</td>\n",
              "      <td>0</td>\n",
              "      <td>0</td>\n",
              "      <td>0</td>\n",
              "      <td>0</td>\n",
              "      <td>0</td>\n",
              "      <td>0</td>\n",
              "      <td>0</td>\n",
              "      <td>0</td>\n",
              "      <td>0</td>\n",
              "      <td>0</td>\n",
              "      <td>0</td>\n",
              "      <td>0</td>\n",
              "      <td>0</td>\n",
              "      <td>0</td>\n",
              "      <td>0</td>\n",
              "      <td>0</td>\n",
              "      <td>0</td>\n",
              "      <td>0</td>\n",
              "      <td>0</td>\n",
              "      <td>0</td>\n",
              "      <td>0</td>\n",
              "      <td>0</td>\n",
              "      <td>0</td>\n",
              "      <td>0</td>\n",
              "      <td>0</td>\n",
              "      <td>0</td>\n",
              "      <td>0</td>\n",
              "      <td>0</td>\n",
              "      <td>0</td>\n",
              "      <td>0</td>\n",
              "      <td>0</td>\n",
              "      <td>0</td>\n",
              "      <td>0</td>\n",
              "      <td>0</td>\n",
              "      <td>0</td>\n",
              "      <td>0</td>\n",
              "      <td>0</td>\n",
              "      <td>0</td>\n",
              "      <td>0</td>\n",
              "      <td>0</td>\n",
              "    </tr>\n",
              "    <tr>\n",
              "      <th>2</th>\n",
              "      <td>1</td>\n",
              "      <td>0</td>\n",
              "      <td>0</td>\n",
              "      <td>0</td>\n",
              "      <td>0</td>\n",
              "      <td>0</td>\n",
              "      <td>0</td>\n",
              "      <td>0</td>\n",
              "      <td>0</td>\n",
              "      <td>0</td>\n",
              "      <td>0</td>\n",
              "      <td>0</td>\n",
              "      <td>0</td>\n",
              "      <td>0</td>\n",
              "      <td>0</td>\n",
              "      <td>0</td>\n",
              "      <td>0</td>\n",
              "      <td>0</td>\n",
              "      <td>0</td>\n",
              "      <td>0</td>\n",
              "      <td>0</td>\n",
              "      <td>0</td>\n",
              "      <td>0</td>\n",
              "      <td>0</td>\n",
              "      <td>0</td>\n",
              "      <td>0</td>\n",
              "      <td>0</td>\n",
              "      <td>0</td>\n",
              "      <td>0</td>\n",
              "      <td>0</td>\n",
              "      <td>0</td>\n",
              "      <td>0</td>\n",
              "      <td>0</td>\n",
              "      <td>0</td>\n",
              "      <td>0</td>\n",
              "      <td>0</td>\n",
              "      <td>0</td>\n",
              "      <td>0</td>\n",
              "      <td>0</td>\n",
              "      <td>0</td>\n",
              "      <td>...</td>\n",
              "      <td>0</td>\n",
              "      <td>0</td>\n",
              "      <td>0</td>\n",
              "      <td>0</td>\n",
              "      <td>0</td>\n",
              "      <td>0</td>\n",
              "      <td>0</td>\n",
              "      <td>0</td>\n",
              "      <td>0</td>\n",
              "      <td>0</td>\n",
              "      <td>0</td>\n",
              "      <td>0</td>\n",
              "      <td>0</td>\n",
              "      <td>0</td>\n",
              "      <td>0</td>\n",
              "      <td>0</td>\n",
              "      <td>0</td>\n",
              "      <td>0</td>\n",
              "      <td>0</td>\n",
              "      <td>0</td>\n",
              "      <td>0</td>\n",
              "      <td>0</td>\n",
              "      <td>0</td>\n",
              "      <td>0</td>\n",
              "      <td>0</td>\n",
              "      <td>0</td>\n",
              "      <td>0</td>\n",
              "      <td>0</td>\n",
              "      <td>0</td>\n",
              "      <td>0</td>\n",
              "      <td>0</td>\n",
              "      <td>0</td>\n",
              "      <td>0</td>\n",
              "      <td>0</td>\n",
              "      <td>0</td>\n",
              "      <td>0</td>\n",
              "      <td>0</td>\n",
              "      <td>0</td>\n",
              "      <td>0</td>\n",
              "      <td>0</td>\n",
              "    </tr>\n",
              "    <tr>\n",
              "      <th>3</th>\n",
              "      <td>4</td>\n",
              "      <td>0</td>\n",
              "      <td>0</td>\n",
              "      <td>0</td>\n",
              "      <td>0</td>\n",
              "      <td>0</td>\n",
              "      <td>0</td>\n",
              "      <td>0</td>\n",
              "      <td>0</td>\n",
              "      <td>0</td>\n",
              "      <td>0</td>\n",
              "      <td>0</td>\n",
              "      <td>0</td>\n",
              "      <td>0</td>\n",
              "      <td>0</td>\n",
              "      <td>0</td>\n",
              "      <td>0</td>\n",
              "      <td>0</td>\n",
              "      <td>0</td>\n",
              "      <td>0</td>\n",
              "      <td>0</td>\n",
              "      <td>0</td>\n",
              "      <td>0</td>\n",
              "      <td>0</td>\n",
              "      <td>0</td>\n",
              "      <td>0</td>\n",
              "      <td>0</td>\n",
              "      <td>0</td>\n",
              "      <td>0</td>\n",
              "      <td>0</td>\n",
              "      <td>0</td>\n",
              "      <td>0</td>\n",
              "      <td>0</td>\n",
              "      <td>0</td>\n",
              "      <td>0</td>\n",
              "      <td>0</td>\n",
              "      <td>0</td>\n",
              "      <td>0</td>\n",
              "      <td>0</td>\n",
              "      <td>0</td>\n",
              "      <td>...</td>\n",
              "      <td>0</td>\n",
              "      <td>0</td>\n",
              "      <td>0</td>\n",
              "      <td>0</td>\n",
              "      <td>0</td>\n",
              "      <td>0</td>\n",
              "      <td>0</td>\n",
              "      <td>0</td>\n",
              "      <td>0</td>\n",
              "      <td>0</td>\n",
              "      <td>0</td>\n",
              "      <td>0</td>\n",
              "      <td>0</td>\n",
              "      <td>0</td>\n",
              "      <td>0</td>\n",
              "      <td>0</td>\n",
              "      <td>0</td>\n",
              "      <td>0</td>\n",
              "      <td>0</td>\n",
              "      <td>0</td>\n",
              "      <td>0</td>\n",
              "      <td>0</td>\n",
              "      <td>0</td>\n",
              "      <td>0</td>\n",
              "      <td>0</td>\n",
              "      <td>0</td>\n",
              "      <td>0</td>\n",
              "      <td>0</td>\n",
              "      <td>0</td>\n",
              "      <td>0</td>\n",
              "      <td>0</td>\n",
              "      <td>0</td>\n",
              "      <td>0</td>\n",
              "      <td>0</td>\n",
              "      <td>0</td>\n",
              "      <td>0</td>\n",
              "      <td>0</td>\n",
              "      <td>0</td>\n",
              "      <td>0</td>\n",
              "      <td>0</td>\n",
              "    </tr>\n",
              "    <tr>\n",
              "      <th>4</th>\n",
              "      <td>0</td>\n",
              "      <td>0</td>\n",
              "      <td>0</td>\n",
              "      <td>0</td>\n",
              "      <td>0</td>\n",
              "      <td>0</td>\n",
              "      <td>0</td>\n",
              "      <td>0</td>\n",
              "      <td>0</td>\n",
              "      <td>0</td>\n",
              "      <td>0</td>\n",
              "      <td>0</td>\n",
              "      <td>0</td>\n",
              "      <td>0</td>\n",
              "      <td>0</td>\n",
              "      <td>0</td>\n",
              "      <td>0</td>\n",
              "      <td>0</td>\n",
              "      <td>0</td>\n",
              "      <td>0</td>\n",
              "      <td>0</td>\n",
              "      <td>0</td>\n",
              "      <td>0</td>\n",
              "      <td>0</td>\n",
              "      <td>0</td>\n",
              "      <td>0</td>\n",
              "      <td>0</td>\n",
              "      <td>0</td>\n",
              "      <td>0</td>\n",
              "      <td>0</td>\n",
              "      <td>0</td>\n",
              "      <td>0</td>\n",
              "      <td>0</td>\n",
              "      <td>0</td>\n",
              "      <td>0</td>\n",
              "      <td>0</td>\n",
              "      <td>0</td>\n",
              "      <td>0</td>\n",
              "      <td>0</td>\n",
              "      <td>0</td>\n",
              "      <td>...</td>\n",
              "      <td>0</td>\n",
              "      <td>0</td>\n",
              "      <td>0</td>\n",
              "      <td>0</td>\n",
              "      <td>0</td>\n",
              "      <td>0</td>\n",
              "      <td>0</td>\n",
              "      <td>0</td>\n",
              "      <td>0</td>\n",
              "      <td>0</td>\n",
              "      <td>0</td>\n",
              "      <td>0</td>\n",
              "      <td>0</td>\n",
              "      <td>0</td>\n",
              "      <td>0</td>\n",
              "      <td>0</td>\n",
              "      <td>0</td>\n",
              "      <td>0</td>\n",
              "      <td>0</td>\n",
              "      <td>0</td>\n",
              "      <td>0</td>\n",
              "      <td>0</td>\n",
              "      <td>0</td>\n",
              "      <td>0</td>\n",
              "      <td>0</td>\n",
              "      <td>0</td>\n",
              "      <td>0</td>\n",
              "      <td>0</td>\n",
              "      <td>0</td>\n",
              "      <td>0</td>\n",
              "      <td>0</td>\n",
              "      <td>0</td>\n",
              "      <td>0</td>\n",
              "      <td>0</td>\n",
              "      <td>0</td>\n",
              "      <td>0</td>\n",
              "      <td>0</td>\n",
              "      <td>0</td>\n",
              "      <td>0</td>\n",
              "      <td>0</td>\n",
              "    </tr>\n",
              "  </tbody>\n",
              "</table>\n",
              "<p>5 rows × 785 columns</p>\n",
              "</div>"
            ],
            "text/plain": [
              "   label  pixel0  pixel1  pixel2  ...  pixel780  pixel781  pixel782  pixel783\n",
              "0      1       0       0       0  ...         0         0         0         0\n",
              "1      0       0       0       0  ...         0         0         0         0\n",
              "2      1       0       0       0  ...         0         0         0         0\n",
              "3      4       0       0       0  ...         0         0         0         0\n",
              "4      0       0       0       0  ...         0         0         0         0\n",
              "\n",
              "[5 rows x 785 columns]"
            ]
          },
          "metadata": {
            "tags": []
          },
          "execution_count": 2
        }
      ]
    },
    {
      "cell_type": "markdown",
      "metadata": {
        "id": "xmYw3SV_8ICL"
      },
      "source": [
        "##preprocessing"
      ]
    },
    {
      "cell_type": "markdown",
      "metadata": {
        "id": "joiAeQvc9FrH"
      },
      "source": [
        "check for missing values"
      ]
    },
    {
      "cell_type": "markdown",
      "metadata": {
        "id": "wQT_9_FwRbxU"
      },
      "source": [
        "no not available data "
      ]
    },
    {
      "cell_type": "code",
      "metadata": {
        "id": "BkOFlv0N8D_s",
        "colab": {
          "base_uri": "https://localhost:8080/"
        },
        "outputId": "4aff8f9a-ac01-4de8-e9ea-2332090cfc27"
      },
      "source": [
        "data.isnull().any().describe()"
      ],
      "execution_count": null,
      "outputs": [
        {
          "output_type": "execute_result",
          "data": {
            "text/plain": [
              "count       785\n",
              "unique        1\n",
              "top       False\n",
              "freq        785\n",
              "dtype: object"
            ]
          },
          "metadata": {
            "tags": []
          },
          "execution_count": 3
        }
      ]
    },
    {
      "cell_type": "code",
      "metadata": {
        "id": "Ir_NjoawRpAq",
        "colab": {
          "base_uri": "https://localhost:8080/",
          "height": 525
        },
        "outputId": "2a191ee0-f671-497f-e792-664778378b88"
      },
      "source": [
        "random_seed = 2\n",
        "\n",
        "\n",
        "Y_train = data[\"label\"]\n",
        "\n",
        "# Drop 'label' column\n",
        "X_train = data.drop(labels = [\"label\"],axis = 1) \n",
        "\n",
        "# free some space\n",
        "del data \n",
        "\n",
        "g = sns.countplot(Y_train)\n",
        "\n",
        "Y_train.value_counts()"
      ],
      "execution_count": null,
      "outputs": [
        {
          "output_type": "stream",
          "text": [
            "/usr/local/lib/python3.7/dist-packages/seaborn/_decorators.py:43: FutureWarning: Pass the following variable as a keyword arg: x. From version 0.12, the only valid positional argument will be `data`, and passing other arguments without an explicit keyword will result in an error or misinterpretation.\n",
            "  FutureWarning\n"
          ],
          "name": "stderr"
        },
        {
          "output_type": "execute_result",
          "data": {
            "text/plain": [
              "1    4684\n",
              "7    4401\n",
              "3    4351\n",
              "9    4188\n",
              "2    4177\n",
              "6    4137\n",
              "0    4132\n",
              "4    4072\n",
              "8    4063\n",
              "5    3795\n",
              "Name: label, dtype: int64"
            ]
          },
          "metadata": {
            "tags": []
          },
          "execution_count": 4
        },
        {
          "output_type": "display_data",
          "data": {
            "image/png": "[encoded data removed]",
            "text/plain": [
              "<Figure size 432x288 with 1 Axes>"
            ]
          },
          "metadata": {
            "tags": [],
            "needs_background": "light"
          }
        }
      ]
    },
    {
      "cell_type": "markdown",
      "metadata": {
        "id": "fd-d0yLRRuhA"
      },
      "source": [
        "almost balanced"
      ]
    },
    {
      "cell_type": "code",
      "metadata": {
        "id": "sTOLH7fBKeOA",
        "colab": {
          "base_uri": "https://localhost:8080/"
        },
        "outputId": "cdb74ade-7559-406a-c7f1-e46c44dbd7d0"
      },
      "source": [
        "X_train.shape"
      ],
      "execution_count": null,
      "outputs": [
        {
          "output_type": "execute_result",
          "data": {
            "text/plain": [
              "(42000, 784)"
            ]
          },
          "metadata": {
            "tags": []
          },
          "execution_count": 5
        }
      ]
    },
    {
      "cell_type": "code",
      "metadata": {
        "id": "MM3s1fIHKkdO"
      },
      "source": [
        "# X_test.shape"
      ],
      "execution_count": null,
      "outputs": []
    },
    {
      "cell_type": "markdown",
      "metadata": {
        "id": "M8t5-kJN86q7"
      },
      "source": [
        "normalaize"
      ]
    },
    {
      "cell_type": "code",
      "metadata": {
        "id": "5WZXUlGbRsH9"
      },
      "source": [
        "X_train = X_train / 255.0\n"
      ],
      "execution_count": null,
      "outputs": []
    },
    {
      "cell_type": "code",
      "metadata": {
        "id": "gWZWAphN9igV"
      },
      "source": [
        "# # Reshape image in 3 dimensions (height = 28px, width = 28px , canal = 1) ---> not RGB\n",
        "X_train = X_train.values.reshape(-1,28,28,1)\n",
        "# X_test = X_test.values.reshape(-1,28,28,1)"
      ],
      "execution_count": null,
      "outputs": []
    },
    {
      "cell_type": "code",
      "metadata": {
        "id": "sK9Sj0m2935m"
      },
      "source": [
        "# Encode labels to one hot vectors (ex : 2 -> [0,0,1,0,0,0,0,0,0,0])\n",
        "Y_train = to_categorical(Y_train, num_classes = 10)"
      ],
      "execution_count": null,
      "outputs": []
    },
    {
      "cell_type": "markdown",
      "metadata": {
        "id": "EqfQ7Vsv-VuN"
      },
      "source": [
        "split training and test"
      ]
    },
    {
      "cell_type": "code",
      "metadata": {
        "id": "bogzR9cNR_dr"
      },
      "source": [
        "X_train, X_test, Y_train, Y_test = train_test_split(X_train, Y_train, test_size = 0.1, random_state=random_seed)"
      ],
      "execution_count": null,
      "outputs": []
    },
    {
      "cell_type": "code",
      "metadata": {
        "id": "z_BtUmV1-lHP",
        "colab": {
          "base_uri": "https://localhost:8080/",
          "height": 265
        },
        "outputId": "ed3ad7ef-7858-472d-a72b-51a8c2e3a5ee"
      },
      "source": [
        "# Some examples\n",
        "g = plt.imshow(X_train[0][:,:,0])"
      ],
      "execution_count": null,
      "outputs": [
        {
          "output_type": "display_data",
          "data": {
            "image/png": "[encoded data removed]",
            "text/plain": [
              "<Figure size 432x288 with 1 Axes>"
            ]
          },
          "metadata": {
            "tags": [],
            "needs_background": "light"
          }
        }
      ]
    },
    {
      "cell_type": "markdown",
      "metadata": {
        "id": "zbKzoZHRfDgH"
      },
      "source": [
        "##define the RMSprop model"
      ]
    },
    {
      "cell_type": "code",
      "metadata": {
        "id": "KjHmnJ9UfNtR"
      },
      "source": [
        "# Set the CNN RMSprop \n",
        "# my CNN architechture is In -> [[Conv2D->relu]*2 -> MaxPool2D -> Dropout]*2 -> Flatten -> Dense -> Dropout -> Out\n",
        "\n",
        "RMSpropmodel = Sequential()\n",
        "\n",
        "RMSpropmodel.add(Conv2D(filters = 32, kernel_size = (5,5),padding = 'Same', \n",
        "                 activation ='relu', input_shape = (28,28,1)))\n",
        "RMSpropmodel.add(Conv2D(filters = 32, kernel_size = (5,5),padding = 'Same', \n",
        "                 activation ='relu'))\n",
        "RMSpropmodel.add(MaxPool2D(pool_size=(2,2)))\n",
        "RMSpropmodel.add(Dropout(0.25))\n",
        "\n",
        "\n",
        "RMSpropmodel.add(Conv2D(filters = 64, kernel_size = (3,3),padding = 'Same', \n",
        "                 activation ='relu'))\n",
        "RMSpropmodel.add(Conv2D(filters = 64, kernel_size = (3,3),padding = 'Same', \n",
        "                 activation ='relu'))\n",
        "RMSpropmodel.add(MaxPool2D(pool_size=(2,2), strides=(2,2)))\n",
        "RMSpropmodel.add(Dropout(0.25))\n",
        "\n",
        "\n",
        "RMSpropmodel.add(Flatten())\n",
        "RMSpropmodel.add(Dense(256, activation = \"relu\"))\n",
        "RMSpropmodel.add(Dropout(0.5))\n",
        "RMSpropmodel.add(Dense(10, activation = \"softmax\"))"
      ],
      "execution_count": null,
      "outputs": []
    },
    {
      "cell_type": "code",
      "metadata": {
        "id": "c-H8BfYbfT9Y",
        "colab": {
          "base_uri": "https://localhost:8080/"
        },
        "outputId": "375d32f8-0235-4d26-adab-9b459dee34d0"
      },
      "source": [
        "# Define the optimizer\n",
        "optimizer = RMSprop(lr=0.001, rho=0.9, epsilon=1e-08, decay=0.0)\n",
        "# Compile the RMSprop\n",
        "RMSpropmodel.compile(optimizer = optimizer , loss = \"categorical_crossentropy\", metrics='accuracy')"
      ],
      "execution_count": null,
      "outputs": [
        {
          "output_type": "stream",
          "text": [
            "/usr/local/lib/python3.7/dist-packages/tensorflow/python/keras/optimizer_v2/optimizer_v2.py:375: UserWarning: The `lr` argument is deprecated, use `learning_rate` instead.\n",
            "  \"The `lr` argument is deprecated, use `learning_rate` instead.\")\n"
          ],
          "name": "stderr"
        }
      ]
    },
    {
      "cell_type": "code",
      "metadata": {
        "id": "xJ_9242wfyhC"
      },
      "source": [
        "epochs = 10 # Turn epochs to 30 to get 0.9967 accuracy # tooooo long run time\n",
        "batch_size = 86"
      ],
      "execution_count": null,
      "outputs": []
    },
    {
      "cell_type": "code",
      "metadata": {
        "id": "miJpLqc8gA1W",
        "colab": {
          "base_uri": "https://localhost:8080/"
        },
        "outputId": "fb4cb3b3-4f63-4998-fda3-64a3c8986df5"
      },
      "source": [
        "# Fit the RMSprop\n",
        "RMShistory = RMSpropmodel.fit(X_train,Y_train, batch_size=batch_size,\n",
        "                              epochs = epochs, validation_data = (X_test,Y_test),verbose=2)"
      ],
      "execution_count": null,
      "outputs": [
        {
          "output_type": "stream",
          "text": [
            "Epoch 1/10\n",
            "440/440 - 247s - loss: 0.2315 - accuracy: 0.9260 - val_loss: 0.0756 - val_accuracy: 0.9798\n",
            "Epoch 2/10\n",
            "440/440 - 230s - loss: 0.0740 - accuracy: 0.9787 - val_loss: 0.0476 - val_accuracy: 0.9852\n",
            "Epoch 3/10\n",
            "440/440 - 228s - loss: 0.0524 - accuracy: 0.9844 - val_loss: 0.0325 - val_accuracy: 0.9893\n",
            "Epoch 4/10\n",
            "440/440 - 227s - loss: 0.0443 - accuracy: 0.9863 - val_loss: 0.0347 - val_accuracy: 0.9876\n",
            "Epoch 5/10\n",
            "440/440 - 227s - loss: 0.0413 - accuracy: 0.9879 - val_loss: 0.0278 - val_accuracy: 0.9921\n",
            "Epoch 6/10\n",
            "440/440 - 227s - loss: 0.0341 - accuracy: 0.9899 - val_loss: 0.0380 - val_accuracy: 0.9886\n",
            "Epoch 7/10\n",
            "440/440 - 228s - loss: 0.0333 - accuracy: 0.9904 - val_loss: 0.0319 - val_accuracy: 0.9914\n",
            "Epoch 8/10\n",
            "440/440 - 228s - loss: 0.0311 - accuracy: 0.9907 - val_loss: 0.0502 - val_accuracy: 0.9910\n",
            "Epoch 9/10\n",
            "440/440 - 228s - loss: 0.0296 - accuracy: 0.9915 - val_loss: 0.0294 - val_accuracy: 0.9919\n",
            "Epoch 10/10\n",
            "440/440 - 227s - loss: 0.0287 - accuracy: 0.9912 - val_loss: 0.0510 - val_accuracy: 0.9900\n"
          ],
          "name": "stdout"
        }
      ]
    },
    {
      "cell_type": "markdown",
      "metadata": {
        "id": "NhFDrRk1kzO0"
      },
      "source": [
        "###evaluation"
      ]
    },
    {
      "cell_type": "code",
      "metadata": {
        "id": "ZJ-MbIg0OwLm",
        "colab": {
          "base_uri": "https://localhost:8080/"
        },
        "outputId": "5f3f9d46-d4b1-4a48-8370-87c074d13cdb"
      },
      "source": [
        "from sklearn.metrics import classification_report, accuracy_score, precision_score, confusion_matrix\n",
        "predict = RMSpropmodel.predict(X_test).argmax(axis=1)\n",
        "print(classification_report(Y_test.argmax(axis=1), predict))"
      ],
      "execution_count": null,
      "outputs": [
        {
          "output_type": "stream",
          "text": [
            "              precision    recall  f1-score   support\n",
            "\n",
            "           0       1.00      1.00      1.00       411\n",
            "           1       1.00      0.99      0.99       485\n",
            "           2       0.99      0.99      0.99       403\n",
            "           3       0.99      0.99      0.99       418\n",
            "           4       1.00      0.98      0.99       461\n",
            "           5       1.00      0.99      0.99       372\n",
            "           6       0.99      1.00      0.99       413\n",
            "           7       1.00      0.99      0.99       446\n",
            "           8       0.96      0.99      0.98       382\n",
            "           9       0.97      1.00      0.98       409\n",
            "\n",
            "    accuracy                           0.99      4200\n",
            "   macro avg       0.99      0.99      0.99      4200\n",
            "weighted avg       0.99      0.99      0.99      4200\n",
            "\n"
          ],
          "name": "stdout"
        }
      ]
    },
    {
      "cell_type": "markdown",
      "metadata": {
        "id": "KnlOKLrFdBiK"
      },
      "source": [
        "همانطور که مشخص است دقت بالای 99 درصد حاصل شد در نهایت.مقادیر متفاوت این متغیرهای آماری که در فصل 5 گزارش توضیح داده شدند، هم مقادیر بالایی را نشان می‌دهند به جز مقدار precision برای ارقام 8 و 9  که به ترتیب در 4 و 3 درصد مواقع به یک لیبل فالس برای این ارقام، اشتباها لیبل ترو نسبت می‌دهد. به همین دلیل مقدار f1-score این دو نیز 98 درصد است که میانگین نرخ‌های فوق و است و طبیعتا کاهش میابد.\n",
        "عدد 4 نیز racall با خطای 2 درصد دارد که به آن معناست که در 2 درصد مواقع اعدادی که واقعا 4 بودند، چیز دیگری تشخیص داده شده‌اند."
      ]
    },
    {
      "cell_type": "code",
      "metadata": {
        "id": "QbY4rO8KJf6q",
        "colab": {
          "base_uri": "https://localhost:8080/",
          "height": 311
        },
        "outputId": "e9ac26f2-56ec-419b-9afb-850452fbf5b9"
      },
      "source": [
        "def plot_confusion_matrix(cm, classes,\n",
        "                          normalize=False,\n",
        "                          title='Confusion matrix',\n",
        "                          cmap=plt.cm.Blues):\n",
        "    \"\"\"\n",
        "    This function prints and plots the confusion matrix.\n",
        "    Normalization can be applied by setting `normalize=True`.\n",
        "    \"\"\"\n",
        "    plt.imshow(cm, interpolation='nearest', cmap=cmap)\n",
        "    plt.title(title)\n",
        "    plt.colorbar()\n",
        "    tick_marks = np.arange(len(classes))\n",
        "    plt.xticks(tick_marks, classes, rotation=45)\n",
        "    plt.yticks(tick_marks, classes)\n",
        "\n",
        "    if normalize:\n",
        "        cm = cm.astype('float') / cm.sum(axis=1)[:, np.newaxis]\n",
        "\n",
        "    thresh = cm.max() / 2.\n",
        "    for i, j in itertools.product(range(cm.shape[0]), range(cm.shape[1])):\n",
        "        plt.text(j, i, cm[i, j],\n",
        "                 horizontalalignment=\"center\",\n",
        "                 color=\"white\" if cm[i, j] > thresh else \"black\")\n",
        "\n",
        "    plt.tight_layout()\n",
        "    plt.ylabel('True label')\n",
        "    plt.xlabel('Predicted label')\n",
        "\n",
        "# Predict the values from the validation dataset\n",
        "Y_pred = RMSpropmodel.predict(X_test)\n",
        "# Convert predictions classes to one hot vectors \n",
        "Y_pred_classes = np.argmax(Y_pred,axis = 1) \n",
        "# Convert validation observations to one hot vectors\n",
        "Y_true = np.argmax(Y_test,axis = 1) \n",
        "# compute the confusion matrix\n",
        "confusion_mtx = confusion_matrix(Y_true, Y_pred_classes) \n",
        "# plot the confusion matrix\n",
        "plot_confusion_matrix(confusion_mtx, classes = range(10)) "
      ],
      "execution_count": null,
      "outputs": [
        {
          "output_type": "display_data",
          "data": {
            "image/png": "[encoded data removed]",
            "text/plain": [
              "<Figure size 432x288 with 2 Axes>"
            ]
          },
          "metadata": {
            "tags": [],
            "needs_background": "light"
          }
        }
      ]
    },
    {
      "cell_type": "markdown",
      "metadata": {
        "id": "7SqWfL4ne16n"
      },
      "source": [
        "همانطور که درگزارش نیز بیان شد، در اینجا نشان داده می‌شود که هر رقم چند بار به چه رقمی تشخیص داده شده است. به طور کلی اکثر ارقام درست تشخیص داده شده‌اند. بیشترین نرخ اشتباه همانطور که در بالا هم گویا بود، مربوط به پیشگویی ارقام 8 و 9 است. رقم 8 اشتباها 5 بار به جای 2، و 5 بار به جای 3 شناخته شده و رقم 9 . اشتباها 6 بار به جای 4 و 3 بار به جای 7 شناخته شده است. سایر اشتباهات 1 یا 2 بار رخ داده‌اند و در مجموع 43 تشخیص اشتباه از بین 4200 داده تست اشتباه تشخیص داده شده‌اند که 16 مورد برای تشخیص 0 تا 7 بوده و سایر 27 اشتباه در تشخیص 8 و 9 بوده. یعنی 8  و 9 ارقامی هستند که برای این ممکن است بیشتر به جای ارقام دیگر شناخته شوند. پس اگر در تسخیص رقمی ورودی، جواب 8 یا 9 دریافت کردیم، 3-4 درصد احتمال دهیم که رقم اشتباه تشخیص داده شده و شاید بهتر باشد از مدلی که در تشخیص، کمتر این خطا را میکند، استفاده کنیم.\n",
        "اعداد با رقم واقعی 1 و 4 نیز بیشترین بار تشخیص داد نشده‌اند و اشتباها چیز دیگری تشخیص داده شده‌اند که رقم 4 طبق گزارش بالا انتظار میرفت اما 1 نه. "
      ]
    },
    {
      "cell_type": "markdown",
      "metadata": {
        "id": "vZz0kBt09fz9"
      },
      "source": [
        "مدل زیر با تغییر یک لایه شبکه، نتیجه بهتری حاصل کرد"
      ]
    },
    {
      "cell_type": "markdown",
      "metadata": {
        "id": "fTXP5a9d-pFN"
      },
      "source": [
        "##define the Adam model"
      ]
    },
    {
      "cell_type": "code",
      "metadata": {
        "id": "t3vVcaNY-syX"
      },
      "source": [
        "# Set the CNN adam\n",
        "# my CNN architechture is In -> [[Conv2D->relu]*2 -> MaxPool2D -> Dropout]*2 -> Flatten -> Dense -> Dropout -> Out\n",
        "AdamModel = Sequential()\n",
        "\n",
        "AdamModel.add(Conv2D(filters = 32, kernel_size = (3,3), activation ='relu', input_shape = (28,28,1)))\n",
        "AdamModel.add(Conv2D(filters = 32, kernel_size = (3,3), activation ='relu'))\n",
        "AdamModel.add(MaxPool2D(pool_size=(2,2)))\n",
        "AdamModel.add(Dropout(0.25))\n",
        "\n",
        "\n",
        "AdamModel.add(Conv2D(filters = 64, kernel_size = (3,3), activation ='relu'))\n",
        "AdamModel.add(Conv2D(filters = 64, kernel_size = (3,3), activation ='relu'))\n",
        "AdamModel.add(MaxPool2D(pool_size=(2,2), strides=(2,2)))\n",
        "AdamModel.add(Dropout(0.25))\n",
        "\n",
        "\n",
        "AdamModel.add(Flatten())\n",
        "AdamModel.add(Dense(256, activation = \"relu\"))\n",
        "AdamModel.add(Dropout(0.5))\n",
        "AdamModel.add(Dense(10, activation = \"softmax\"))\n",
        "\n"
      ],
      "execution_count": null,
      "outputs": []
    },
    {
      "cell_type": "markdown",
      "metadata": {
        "id": "Gj7aldVqChz1"
      },
      "source": [
        "set the optimizer"
      ]
    },
    {
      "cell_type": "code",
      "metadata": {
        "id": "NPNpn-stCXvL"
      },
      "source": [
        "# Define the optimizer\n",
        "# Compile the adam\n",
        "AdamModel.compile(optimizer = 'adam' , loss = \"categorical_crossentropy\", metrics='accuracy')"
      ],
      "execution_count": null,
      "outputs": []
    },
    {
      "cell_type": "code",
      "metadata": {
        "colab": {
          "base_uri": "https://localhost:8080/"
        },
        "id": "IYuts_aVEkgh",
        "outputId": "744c369f-6b17-4f4b-c447-b07f180ad31f"
      },
      "source": [
        "# Fit the adam\n",
        "Adamhistory = AdamModel.fit(X_train,Y_train, batch_size=batch_size,\n",
        "                              epochs = epochs, validation_data = (X_test,Y_test),verbose=2)"
      ],
      "execution_count": null,
      "outputs": [
        {
          "output_type": "stream",
          "text": [
            "Epoch 1/10\n",
            "440/440 - 77s - loss: 0.3146 - accuracy: 0.8975 - val_loss: 0.0673 - val_accuracy: 0.9790\n",
            "Epoch 2/10\n",
            "440/440 - 76s - loss: 0.0864 - accuracy: 0.9739 - val_loss: 0.0499 - val_accuracy: 0.9833\n",
            "Epoch 3/10\n",
            "440/440 - 76s - loss: 0.0616 - accuracy: 0.9811 - val_loss: 0.0370 - val_accuracy: 0.9895\n",
            "Epoch 4/10\n",
            "440/440 - 76s - loss: 0.0496 - accuracy: 0.9845 - val_loss: 0.0388 - val_accuracy: 0.9895\n",
            "Epoch 5/10\n",
            "440/440 - 76s - loss: 0.0446 - accuracy: 0.9858 - val_loss: 0.0337 - val_accuracy: 0.9924\n",
            "Epoch 6/10\n",
            "440/440 - 76s - loss: 0.0391 - accuracy: 0.9878 - val_loss: 0.0239 - val_accuracy: 0.9921\n",
            "Epoch 7/10\n",
            "440/440 - 76s - loss: 0.0342 - accuracy: 0.9893 - val_loss: 0.0241 - val_accuracy: 0.9933\n",
            "Epoch 8/10\n",
            "440/440 - 76s - loss: 0.0295 - accuracy: 0.9907 - val_loss: 0.0286 - val_accuracy: 0.9929\n",
            "Epoch 9/10\n",
            "440/440 - 76s - loss: 0.0278 - accuracy: 0.9910 - val_loss: 0.0227 - val_accuracy: 0.9936\n",
            "Epoch 10/10\n",
            "440/440 - 76s - loss: 0.0277 - accuracy: 0.9916 - val_loss: 0.0214 - val_accuracy: 0.9931\n"
          ],
          "name": "stdout"
        }
      ]
    },
    {
      "cell_type": "markdown",
      "metadata": {
        "id": "trk04MdvlMBE"
      },
      "source": [
        "###evaluation"
      ]
    },
    {
      "cell_type": "code",
      "metadata": {
        "id": "K3ByqK7hayqi",
        "colab": {
          "base_uri": "https://localhost:8080/"
        },
        "outputId": "18dc8d13-9ff6-4ff1-fb3d-36394e1ddb32"
      },
      "source": [
        "from sklearn.metrics import classification_report, accuracy_score, precision_score, confusion_matrix\n",
        "predict = AdamModel.predict(X_test).argmax(axis=1)\n",
        "print(classification_report(Y_test.argmax(axis=1), predict))"
      ],
      "execution_count": null,
      "outputs": [
        {
          "output_type": "stream",
          "text": [
            "              precision    recall  f1-score   support\n",
            "\n",
            "           0       1.00      1.00      1.00       411\n",
            "           1       1.00      1.00      1.00       485\n",
            "           2       1.00      1.00      1.00       403\n",
            "           3       1.00      0.99      1.00       418\n",
            "           4       1.00      0.99      0.99       461\n",
            "           5       0.99      0.99      0.99       372\n",
            "           6       0.99      0.99      0.99       413\n",
            "           7       0.99      1.00      0.99       446\n",
            "           8       0.98      1.00      0.99       382\n",
            "           9       0.99      0.98      0.99       409\n",
            "\n",
            "    accuracy                           0.99      4200\n",
            "   macro avg       0.99      0.99      0.99      4200\n",
            "weighted avg       0.99      0.99      0.99      4200\n",
            "\n"
          ],
          "name": "stdout"
        }
      ]
    },
    {
      "cell_type": "markdown",
      "metadata": {
        "id": "JQkyv6Yvh2oD"
      },
      "source": [
        "مشاهده می‌کنیم که این مدل برای هیچ رقمی خطای بالای 2 درصد ندارد. درست است که مثل مدل قبل دقت نهایی آن 99 درصد است اما روی یک رقم خاص خطای بالاتر ندارد. خطاهای 2 درصد هم برای precision رقم 8 رخ داده که نشان میدهد در 2 درصد مواقع اشتباه به یک لیبل فالس برای رقم 8 اشتباها ترو داده میشود. مانند مدل قبل اما این بار با خطای کمتر. همچنین یک خطای 2 درصد هم در recall رقم 9 دیده می‌شود که نشان می‌دهد این مدل در سافتن همه    9ها  2درصد خطا دارد."
      ]
    },
    {
      "cell_type": "markdown",
      "metadata": {
        "id": "_w0OGFx3E4i8"
      },
      "source": [
        "confusion matrix"
      ]
    },
    {
      "cell_type": "code",
      "metadata": {
        "id": "Od3U3sACE4EV",
        "colab": {
          "base_uri": "https://localhost:8080/",
          "height": 311
        },
        "outputId": "443935d6-3fe2-4fd8-9e45-203ecad2c182"
      },
      "source": [
        "def plot_confusion_matrix(cm, classes,\n",
        "                          normalize=False,\n",
        "                          title='Confusion matrix',\n",
        "                          cmap=plt.cm.Blues):\n",
        "    \"\"\"\n",
        "    This function prints and plots the confusion matrix.\n",
        "    Normalization can be applied by setting `normalize=True`.\n",
        "    \"\"\"\n",
        "    plt.imshow(cm, interpolation='nearest', cmap=cmap)\n",
        "    plt.title(title)\n",
        "    plt.colorbar()\n",
        "    tick_marks = np.arange(len(classes))\n",
        "    plt.xticks(tick_marks, classes, rotation=45)\n",
        "    plt.yticks(tick_marks, classes)\n",
        "\n",
        "    if normalize:\n",
        "        cm = cm.astype('float') / cm.sum(axis=1)[:, np.newaxis]\n",
        "\n",
        "    thresh = cm.max() / 2.\n",
        "    for i, j in itertools.product(range(cm.shape[0]), range(cm.shape[1])):\n",
        "        plt.text(j, i, cm[i, j],\n",
        "                 horizontalalignment=\"center\",\n",
        "                 color=\"white\" if cm[i, j] > thresh else \"black\")\n",
        "\n",
        "    plt.tight_layout()\n",
        "    plt.ylabel('True label')\n",
        "    plt.xlabel('Predicted label')\n",
        "\n",
        "# Predict the values from the validation dataset\n",
        "Y_pred = AdamModel.predict(X_test)\n",
        "# Convert predictions classes to one hot vectors \n",
        "Y_pred_classes = np.argmax(Y_pred,axis = 1) \n",
        "# Convert validation observations to one hot vectors\n",
        "Y_true = np.argmax(Y_test,axis = 1) \n",
        "# compute the confusion matrix\n",
        "confusion_mtx = confusion_matrix(Y_true, Y_pred_classes) \n",
        "# plot the confusion matrix\n",
        "plot_confusion_matrix(confusion_mtx, classes = range(10)) "
      ],
      "execution_count": null,
      "outputs": [
        {
          "output_type": "display_data",
          "data": {
            "image/png": "[encoded data removed]",
            "text/plain": [
              "<Figure size 432x288 with 2 Axes>"
            ]
          },
          "metadata": {
            "tags": [],
            "needs_background": "light"
          }
        }
      ]
    },
    {
      "cell_type": "markdown",
      "metadata": {
        "id": "FFgIcs5ijGAp"
      },
      "source": [
        "اینجا به طرز مشهودی نشخیص اشتباه در هیچ رقمی بالای 2 بار رویت نمیشود. طبق انتطار از نتایج بالا، رقم 8 بیشترین مجموع خطای تشخیص را دارد (ستون 8) و رقم 9 بیشترین مقدار تشخیص داده نشدن (سطر 9 یا ارقامی که واقعا 9 بودند اما چیز دیگری شناخته شدند)"
      ]
    },
    {
      "cell_type": "code",
      "metadata": {
        "id": "RtWAgxq-brOs",
        "colab": {
          "base_uri": "https://localhost:8080/",
          "height": 265
        },
        "outputId": "4533fff3-7525-4e10-b777-99edd1f74ddc"
      },
      "source": [
        "plt.plot(range(10) , RMShistory.history['accuracy'] , label=\"RMSprop\")\n",
        "plt.plot(range(10) , Adamhistory.history['accuracy'] , label=\"adam\")\n",
        "\n",
        "plt.legend(loc='best')\n",
        "plt.show()"
      ],
      "execution_count": null,
      "outputs": [
        {
          "output_type": "display_data",
          "data": {
            "image/png": "[encoded data removed]",
            "text/plain": [
              "<Figure size 432x288 with 1 Axes>"
            ]
          },
          "metadata": {
            "tags": [],
            "needs_background": "light"
          }
        }
      ]
    },
    {
      "cell_type": "markdown",
      "metadata": {
        "id": "80bxU6-VktSb"
      },
      "source": [
        "همانطور که در گزارش نیز بیان شده، از آنجا که مدل دوم از ترکیب مدل اول با مدل دیگری به دست آمده و همچنین از گزارش‌های بالا، انتظار میرفت که به طور کلی دقت بالاتری داشه باشد اما نتایج نشان میدهد تا رقم 6 این دقت تشخیص در مدل اول بهتر بوده. البته اگر مدل‌ها را روی مقادیر آماری دیگر به جز accuraccy\n",
        "فیت میکردیم، نتایج تفاوت میکرد. همانطور که در بالا هم توضیح دادیم مدل آدام در مجموع خطای پایینتری داشت. برای مثال اگر مدل را روی precision\n",
        "فیت میکردیم، نتایج متفاوت‌تر میشد زیرا مدل دوم برای ارقام کوچکتر دقت 100درصدی دارد."
      ]
    }
  ]
}